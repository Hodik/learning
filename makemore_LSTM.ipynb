{
  "nbformat": 4,
  "nbformat_minor": 0,
  "metadata": {
    "colab": {
      "provenance": [],
      "include_colab_link": true
    },
    "kernelspec": {
      "name": "python3",
      "display_name": "Python 3"
    },
    "language_info": {
      "name": "python"
    }
  },
  "cells": [
    {
      "cell_type": "markdown",
      "metadata": {
        "id": "view-in-github",
        "colab_type": "text"
      },
      "source": [
        "<a href=\"https://colab.research.google.com/github/Hodik/learning/blob/main/makemore_LSTM.ipynb\" target=\"_parent\"><img src=\"https://colab.research.google.com/assets/colab-badge.svg\" alt=\"Open In Colab\"/></a>"
      ]
    },
    {
      "cell_type": "code",
      "execution_count": 6,
      "metadata": {
        "id": "moY8IOKlrm9b"
      },
      "outputs": [],
      "source": [
        "import torch\n",
        "import torch.nn.functional as F\n",
        "from torch import nn\n",
        "import matplotlib.pyplot as plt # for making figures\n",
        "%matplotlib inline"
      ]
    },
    {
      "cell_type": "code",
      "source": [
        "# download the names.txt file from github\n",
        "!wget https://raw.githubusercontent.com/karpathy/makemore/master/names.txt"
      ],
      "metadata": {
        "colab": {
          "base_uri": "https://localhost:8080/"
        },
        "id": "LmmM8POvrtco",
        "outputId": "6da6e163-6dc2-4115-8a1d-c330f36dca98"
      },
      "execution_count": 7,
      "outputs": [
        {
          "output_type": "stream",
          "name": "stdout",
          "text": [
            "--2024-02-12 12:50:49--  https://raw.githubusercontent.com/karpathy/makemore/master/names.txt\n",
            "Resolving raw.githubusercontent.com (raw.githubusercontent.com)... 185.199.108.133, 185.199.109.133, 185.199.110.133, ...\n",
            "Connecting to raw.githubusercontent.com (raw.githubusercontent.com)|185.199.108.133|:443... connected.\n",
            "HTTP request sent, awaiting response... 200 OK\n",
            "Length: 228145 (223K) [text/plain]\n",
            "Saving to: ‘names.txt.1’\n",
            "\n",
            "\rnames.txt.1           0%[                    ]       0  --.-KB/s               \rnames.txt.1         100%[===================>] 222.80K  --.-KB/s    in 0.03s   \n",
            "\n",
            "2024-02-12 12:50:49 (8.03 MB/s) - ‘names.txt.1’ saved [228145/228145]\n",
            "\n"
          ]
        }
      ]
    },
    {
      "cell_type": "code",
      "source": [
        "# read in all the words\n",
        "words = open('names.txt', 'r').read().splitlines()\n",
        "words[:8]"
      ],
      "metadata": {
        "colab": {
          "base_uri": "https://localhost:8080/"
        },
        "id": "4KZE_EtNru_P",
        "outputId": "c55393e6-ddc1-4df6-a8b2-255237651108"
      },
      "execution_count": 8,
      "outputs": [
        {
          "output_type": "execute_result",
          "data": {
            "text/plain": [
              "['emma', 'olivia', 'ava', 'isabella', 'sophia', 'charlotte', 'mia', 'amelia']"
            ]
          },
          "metadata": {},
          "execution_count": 8
        }
      ]
    },
    {
      "cell_type": "code",
      "source": [
        "len(words)"
      ],
      "metadata": {
        "colab": {
          "base_uri": "https://localhost:8080/"
        },
        "id": "rcCVC523r1B5",
        "outputId": "a2d804d4-2a39-43ed-dd99-54f350151210"
      },
      "execution_count": 9,
      "outputs": [
        {
          "output_type": "execute_result",
          "data": {
            "text/plain": [
              "32033"
            ]
          },
          "metadata": {},
          "execution_count": 9
        }
      ]
    },
    {
      "cell_type": "code",
      "source": [
        "# build the vocabulary of characters and mappings to/from integers\n",
        "chars = sorted(list(set(''.join(words))))\n",
        "stoi = {s:i+1 for i,s in enumerate(chars)}\n",
        "stoi['.'] = 0\n",
        "itos = {i:s for s,i in stoi.items()}\n",
        "vocab_size = len(itos)\n",
        "print(itos)\n",
        "print(vocab_size)"
      ],
      "metadata": {
        "colab": {
          "base_uri": "https://localhost:8080/"
        },
        "id": "DXRALF1xr2od",
        "outputId": "150a78c5-3f7e-41c8-c1e3-a91236d69d3f"
      },
      "execution_count": 10,
      "outputs": [
        {
          "output_type": "stream",
          "name": "stdout",
          "text": [
            "{1: 'a', 2: 'b', 3: 'c', 4: 'd', 5: 'e', 6: 'f', 7: 'g', 8: 'h', 9: 'i', 10: 'j', 11: 'k', 12: 'l', 13: 'm', 14: 'n', 15: 'o', 16: 'p', 17: 'q', 18: 'r', 19: 's', 20: 't', 21: 'u', 22: 'v', 23: 'w', 24: 'x', 25: 'y', 26: 'z', 0: '.'}\n",
            "27\n"
          ]
        }
      ]
    },
    {
      "cell_type": "code",
      "source": [
        "# Let's train a deeper network\n",
        "# The classes we create here are the same API as nn.Module in PyTorch\n",
        "from dataclasses import dataclass\n",
        "\n",
        "@dataclass\n",
        "class Config:\n",
        "    n_embd = 64\n",
        "    n_embd2 = 64\n",
        "    block_size = 8\n",
        "    vocab_size = 27\n",
        "    cell_type = 'lstm'\n",
        "\n",
        "class GRUCell(nn.Module):\n",
        "    \"\"\"\n",
        "    same job as RNN cell, but a bit more complicated recurrence formula\n",
        "    that makes the GRU more expressive and easier to optimize.\n",
        "    \"\"\"\n",
        "    def __init__(self, config):\n",
        "        super().__init__()\n",
        "        # input, forget, output, gate\n",
        "        self.xh_to_z = nn.Linear(config.n_embd + config.n_embd2, config.n_embd2)\n",
        "        self.xh_to_r = nn.Linear(config.n_embd + config.n_embd2, config.n_embd2)\n",
        "        self.xh_to_hbar = nn.Linear(config.n_embd + config.n_embd2, config.n_embd2)\n",
        "\n",
        "    def forward(self, xt, hprev):\n",
        "        # first use the reset gate to wipe some channels of the hidden state to zero\n",
        "        xh = torch.cat([xt, hprev], dim=1)\n",
        "        r = F.sigmoid(self.xh_to_r(xh))\n",
        "        hprev_reset = r * hprev\n",
        "        # calculate the candidate new hidden state hbar\n",
        "        xhr = torch.cat([xt, hprev_reset], dim=1)\n",
        "        hbar = F.tanh(self.xh_to_hbar(xhr))\n",
        "        # calculate the switch gate that determines if each channel should be updated at all\n",
        "        z = F.sigmoid(self.xh_to_z(xh))\n",
        "        # blend the previous hidden state and the new candidate hidden state\n",
        "        ht = (1 - z) * hprev + z * hbar\n",
        "        return ht\n",
        "\n",
        "\n",
        "class LSTMCell(nn.Module):\n",
        "    \"\"\"\n",
        "    same job as RNN cell, but a bit more complicated recurrence formula\n",
        "    that makes the GRU more expressive and easier to optimize.\n",
        "    \"\"\"\n",
        "    def __init__(self, config):\n",
        "        super().__init__()\n",
        "        # input, forget, output, gate\n",
        "        self.xh_to_f = nn.Linear(config.n_embd + config.n_embd2, config.n_embd2)\n",
        "        self.xh_to_g = nn.Linear(config.n_embd + config.n_embd2, config.n_embd2)\n",
        "        self.xh_to_i = nn.Linear(config.n_embd + config.n_embd2, config.n_embd2)\n",
        "        self.xh_to_d = nn.Linear(config.n_embd + config.n_embd2, config.n_embd2)\n",
        "\n",
        "    def forward(self, xt, hprev, cprev):\n",
        "        # first use the reset gate to wipe some channels of the hidden state to zero\n",
        "        xh = torch.cat([xt, hprev], dim=1)\n",
        "        f = F.sigmoid(self.xh_to_f(xh))\n",
        "        ct = f * cprev\n",
        "\n",
        "        # calculate the new cell state ct\n",
        "        ct = ct + (F.sigmoid(self.xh_to_i(xh)) * F.tanh(self.xh_to_g(xh)))\n",
        "        # calculate the new hidden state ht\n",
        "        ht = (F.tanh(ct) * F.sigmoid(self.xh_to_d(xh)))\n",
        "        return ht, ct\n",
        "\n",
        "class RNN(nn.Module):\n",
        "\n",
        "    def __init__(self, config):\n",
        "        super().__init__()\n",
        "        self.config = config\n",
        "        self.block_size = config.block_size\n",
        "        self.vocab_size = config.vocab_size\n",
        "        self.start_hidden = nn.Parameter(torch.zeros(1, config.n_embd2)) # the starting hidden state\n",
        "        self.start_cell = nn.Parameter(torch.zeros(1, config.n_embd2)) # the starting hidden state\n",
        "        self.wte = nn.Embedding(config.vocab_size, config.n_embd) # token embeddings table\n",
        "        self.cell = LSTMCell(config) if config.cell_type == 'lstm' else GRUCell(config)\n",
        "        self.cell2 = LSTMCell(config) if config.cell_type == 'lstm' else GRUCell(config)\n",
        "        self.lm_head = nn.Linear(config.n_embd2 * 2, config.vocab_size)\n",
        "\n",
        "    def get_block_size(self):\n",
        "        return self.block_size\n",
        "\n",
        "    def forward(self, idx, targets=None):\n",
        "        device = idx.device\n",
        "        b, t = idx.size()\n",
        "\n",
        "        # embed all the integers up front and all at once for efficiency\n",
        "        emb = self.wte(idx) # (b, t, n_embd)\n",
        "\n",
        "        # sequentially iterate over the inputs and update the RNN state each tick\n",
        "        hts = []\n",
        "        ht1 = self.start_hidden.expand((b, -1)) # expand out the batch dimension\n",
        "        if self.config.cell_type == 'lstm':\n",
        "          ct1 = self.start_cell.expand((b, -1)) # expand out the batch dimension\n",
        "        for i in range(t):\n",
        "            xt = emb[:, i, :] # (b, n_embd)\n",
        "            if self.config.cell_type == 'lstm':\n",
        "              ht1, ct1 = self.cell(xt, ht1, ct1) # (b, n_embd2)\n",
        "            else:\n",
        "              ht1 = self.cell(xt, ht1)\n",
        "\n",
        "            hts.append(ht1)\n",
        "\n",
        "\n",
        "        ht2 = self.start_hidden.expand((b, -1)) # expand out the batch dimension\n",
        "        if self.config.cell_type == 'lstm':\n",
        "          ct2 = self.start_cell.expand((b, -1)) # expand out the batch dimension\n",
        "        for i in range(t):\n",
        "            xt = hts[i] # (b, n_embd)\n",
        "            if self.config.cell_type == 'lstm':\n",
        "              ht2, ct2 = self.cell2(xt, ht2, ct2) # (b, n_embd2)\n",
        "            else:\n",
        "              ht2 = self.cell2(xt, ht2)\n",
        "\n",
        "        logits = self.lm_head(torch.cat((ht1, ht2), dim=1))\n",
        "\n",
        "        # if we are given some desired targets also calculate the loss\n",
        "        loss = None\n",
        "        if targets is not None:\n",
        "            loss = F.cross_entropy(logits, targets)\n",
        "\n",
        "        return logits, loss\n",
        "\n",
        "\n",
        "\n",
        "class RNNATT(nn.Module):\n",
        "\n",
        "    def __init__(self, config):\n",
        "        super().__init__()\n",
        "        self.config = config\n",
        "        self.block_size = config.block_size\n",
        "        self.vocab_size = config.vocab_size\n",
        "        self.start_hidden = nn.Parameter(torch.zeros(1, config.n_embd2)) # the starting hidden state\n",
        "        self.start_cell = nn.Parameter(torch.zeros(1, config.n_embd2)) # the starting hidden state\n",
        "        self.wte = nn.Embedding(config.vocab_size, config.n_embd) # token embeddings table\n",
        "        self.cell = LSTMCell(config)\n",
        "        self.lm_head = nn.Linear(config.n_embd2, config.vocab_size)\n",
        "\n",
        "    def get_block_size(self):\n",
        "        return self.block_size\n",
        "\n",
        "    def forward(self, idx, targets=None):\n",
        "        device = idx.device\n",
        "        b, t = idx.size()\n",
        "\n",
        "        # embed all the integers up front and all at once for efficiency\n",
        "        emb = self.wte(idx) # (b, t, n_embd)\n",
        "\n",
        "        # sequentially iterate over the inputs and update the RNN state each tick\n",
        "        ht = self.start_hidden.expand((b, -1)) # expand out the batch dimension\n",
        "        ct = self.start_cell.expand((b, -1)) # expand out the batch dimension\n",
        "        hts = []\n",
        "        for i in range(t):\n",
        "            xt = emb[:, i, :] # (b, n_embd)\n",
        "            ht, ct = self.cell(xt, ht, ct) # (b, n_embd2)\n",
        "            hts.append(ht)\n",
        "\n",
        "        logits = self.lm_head(ht, dim=1)\n",
        "\n",
        "        # if we are given some desired targets also calculate the loss\n",
        "        loss = None\n",
        "        if targets is not None:\n",
        "            loss = F.cross_entropy(logits, targets)\n",
        "\n",
        "        return logits, loss\n"
      ],
      "metadata": {
        "id": "LKT6Sdcb297m"
      },
      "execution_count": 19,
      "outputs": []
    },
    {
      "cell_type": "code",
      "source": [
        "# build the dataset\n",
        "\n",
        "def build_dataset(words):\n",
        "  X, Y = [], []\n",
        "\n",
        "  for w in words:\n",
        "    context = [0] * Config.block_size\n",
        "    for ch in w + '.':\n",
        "      ix = stoi[ch]\n",
        "      X.append(context)\n",
        "      Y.append(ix)\n",
        "      context = context[1:] + [ix] # crop and append\n",
        "\n",
        "  X = torch.tensor(X)\n",
        "  Y = torch.tensor(Y)\n",
        "  print(X.shape, Y.shape)\n",
        "  return X, Y\n",
        "\n",
        "import random\n",
        "random.seed(42)\n",
        "random.shuffle(words)\n",
        "n1 = int(0.8*len(words))\n",
        "n2 = int(0.9*len(words))\n",
        "\n",
        "Xtr,  Ytr  = build_dataset(words[:n1])     # 80%\n",
        "Xdev, Ydev = build_dataset(words[n1:n2])   # 10%\n",
        "Xte,  Yte  = build_dataset(words[n2:])     # 10%"
      ],
      "metadata": {
        "colab": {
          "base_uri": "https://localhost:8080/"
        },
        "id": "9pZr-a9S6wdm",
        "outputId": "3697787b-fed3-453f-e29b-153a677b2a98"
      },
      "execution_count": 20,
      "outputs": [
        {
          "output_type": "stream",
          "name": "stdout",
          "text": [
            "torch.Size([182437, 8]) torch.Size([182437])\n",
            "torch.Size([22781, 8]) torch.Size([22781])\n",
            "torch.Size([22928, 8]) torch.Size([22928])\n"
          ]
        }
      ]
    },
    {
      "cell_type": "code",
      "source": [
        "# same optimization as last time\n",
        "max_steps = 200000\n",
        "batch_size = 32\n",
        "lossi = []\n",
        "ud = []\n",
        "\n",
        "model = RNN(Config())\n",
        "optimizer = torch.optim.AdamW(model.parameters(), lr=5e-4, weight_decay=0.01, betas=(0.9, 0.99), eps=1e-8)\n",
        "\n",
        "for i in range(max_steps):\n",
        "\n",
        "  # minibatch construct\n",
        "  ix = torch.randint(0, Xtr.shape[0], (batch_size,))\n",
        "  Xb, Yb = Xtr[ix], Ytr[ix] # batch X,Y\n",
        "  logits, loss = model(Xb, Yb)\n",
        "\n",
        "  model.zero_grad(set_to_none=True)\n",
        "  loss.backward()\n",
        "  optimizer.step()\n",
        "\n",
        "  if not i % 10000:\n",
        "    print(loss.item())\n",
        "\n",
        "  lossi.append(loss.item())"
      ],
      "metadata": {
        "colab": {
          "base_uri": "https://localhost:8080/"
        },
        "id": "c21ja-rfsM-a",
        "outputId": "e81d18c0-5812-498f-9146-655f4a08e0ca"
      },
      "execution_count": 23,
      "outputs": [
        {
          "output_type": "stream",
          "name": "stdout",
          "text": [
            "3.291872262954712\n",
            "1.8594310283660889\n",
            "1.8280142545700073\n",
            "2.449490785598755\n",
            "1.7414517402648926\n",
            "1.553497314453125\n",
            "2.1771275997161865\n",
            "1.8643358945846558\n",
            "1.8086349964141846\n",
            "2.0001676082611084\n",
            "2.1618614196777344\n",
            "1.7960602045059204\n",
            "1.8796569108963013\n",
            "2.1293411254882812\n",
            "2.0096490383148193\n",
            "1.966475009918213\n",
            "1.6782886981964111\n",
            "1.4652824401855469\n",
            "1.7277944087982178\n",
            "1.5528820753097534\n"
          ]
        }
      ]
    },
    {
      "cell_type": "code",
      "source": [
        "plt.plot(lossi)"
      ],
      "metadata": {
        "colab": {
          "base_uri": "https://localhost:8080/",
          "height": 448
        },
        "id": "NXTa_LYjAOm-",
        "outputId": "8e4de17b-1460-4aa7-c4fd-daa194c7c97e"
      },
      "execution_count": 24,
      "outputs": [
        {
          "output_type": "execute_result",
          "data": {
            "text/plain": [
              "[<matplotlib.lines.Line2D at 0x7f9017a32e60>]"
            ]
          },
          "metadata": {},
          "execution_count": 24
        },
        {
          "output_type": "display_data",
          "data": {
            "text/plain": [
              "<Figure size 640x480 with 1 Axes>"
            ],
            "image/png": "[encoded data removed]"
          },
          "metadata": {}
        }
      ]
    },
    {
      "cell_type": "code",
      "source": [
        "@torch.no_grad() # this decorator disables gradient tracking\n",
        "def split_loss(split):\n",
        "  x,y = {\n",
        "    'train': (Xtr, Ytr),\n",
        "    'val': (Xdev, Ydev),\n",
        "    'test': (Xte, Yte),\n",
        "  }[split]\n",
        "  logits, loss = model(x, y)\n",
        "  print(split, loss)\n",
        "\n",
        "model.eval()\n",
        "split_loss('train')\n",
        "split_loss('val')\n",
        "model.train()"
      ],
      "metadata": {
        "colab": {
          "base_uri": "https://localhost:8080/"
        },
        "id": "2qDFBVoBsXck",
        "outputId": "4d6a8f9a-f0ab-4e67-9bde-ed4a4986b5a4"
      },
      "execution_count": 25,
      "outputs": [
        {
          "output_type": "stream",
          "name": "stdout",
          "text": [
            "train tensor(1.7927)\n",
            "val tensor(2.0056)\n"
          ]
        },
        {
          "output_type": "execute_result",
          "data": {
            "text/plain": [
              "RNN(\n",
              "  (wte): Embedding(27, 64)\n",
              "  (cell): LSTMCell(\n",
              "    (xh_to_f): Linear(in_features=128, out_features=64, bias=True)\n",
              "    (xh_to_g): Linear(in_features=128, out_features=64, bias=True)\n",
              "    (xh_to_i): Linear(in_features=128, out_features=64, bias=True)\n",
              "    (xh_to_d): Linear(in_features=128, out_features=64, bias=True)\n",
              "  )\n",
              "  (cell2): LSTMCell(\n",
              "    (xh_to_f): Linear(in_features=128, out_features=64, bias=True)\n",
              "    (xh_to_g): Linear(in_features=128, out_features=64, bias=True)\n",
              "    (xh_to_i): Linear(in_features=128, out_features=64, bias=True)\n",
              "    (xh_to_d): Linear(in_features=128, out_features=64, bias=True)\n",
              "  )\n",
              "  (lm_head): Linear(in_features=128, out_features=27, bias=True)\n",
              ")"
            ]
          },
          "metadata": {},
          "execution_count": 25
        }
      ]
    },
    {
      "cell_type": "code",
      "source": [
        "# sample from the model\n",
        "g = torch.Generator().manual_seed(2147483647 + 10)\n",
        "\n",
        "model.eval()\n",
        "for _ in range(20):\n",
        "\n",
        "    out = []\n",
        "    context = [0] * Config.block_size # initialize with all ...\n",
        "    while True:\n",
        "      # forward pass the neural net\n",
        "      logits, _ = model(torch.tensor([context])) # (1,block_size,n_embd)\n",
        "      probs = F.softmax(logits, dim=1)\n",
        "      # sample from the distribution\n",
        "      ix = torch.multinomial(probs, num_samples=1, generator=g).item()\n",
        "      # shift the context window and track the samples\n",
        "      context = context[1:] + [ix]\n",
        "      out.append(ix)\n",
        "      # if we sample the special '.' token, break\n",
        "      if ix == 0:\n",
        "        break\n",
        "\n",
        "    print(''.join(itos[i] for i in out)) # decode and print the generated word\n",
        "\n",
        "model.train()"
      ],
      "metadata": {
        "colab": {
          "base_uri": "https://localhost:8080/"
        },
        "id": "J3E7c5ufsYam",
        "outputId": "52d9c064-0568-46f6-ddbd-1f49142ab01c"
      },
      "execution_count": 26,
      "outputs": [
        {
          "output_type": "stream",
          "name": "stdout",
          "text": [
            "mohammmya.\n",
            "zieen.\n",
            "nihayah.\n",
            "remma.\n",
            "jendra.\n",
            "graden.\n",
            "deelin.\n",
            "shyloe.\n",
            "leighstan.\n",
            "aaryah.\n",
            "zimroth.\n",
            "cayshawn.\n",
            "giagan.\n",
            "jaki.\n",
            "jewelynn.\n",
            "novalyn.\n",
            "brennder.\n",
            "yarun.\n",
            "elsy.\n",
            "majadou.\n"
          ]
        },
        {
          "output_type": "execute_result",
          "data": {
            "text/plain": [
              "RNN(\n",
              "  (wte): Embedding(27, 64)\n",
              "  (cell): LSTMCell(\n",
              "    (xh_to_f): Linear(in_features=128, out_features=64, bias=True)\n",
              "    (xh_to_g): Linear(in_features=128, out_features=64, bias=True)\n",
              "    (xh_to_i): Linear(in_features=128, out_features=64, bias=True)\n",
              "    (xh_to_d): Linear(in_features=128, out_features=64, bias=True)\n",
              "  )\n",
              "  (cell2): LSTMCell(\n",
              "    (xh_to_f): Linear(in_features=128, out_features=64, bias=True)\n",
              "    (xh_to_g): Linear(in_features=128, out_features=64, bias=True)\n",
              "    (xh_to_i): Linear(in_features=128, out_features=64, bias=True)\n",
              "    (xh_to_d): Linear(in_features=128, out_features=64, bias=True)\n",
              "  )\n",
              "  (lm_head): Linear(in_features=128, out_features=27, bias=True)\n",
              ")"
            ]
          },
          "metadata": {},
          "execution_count": 26
        }
      ]
    },
    {
      "cell_type": "markdown",
      "source": [
        "LSTM 2 layers:\n",
        "train tensor(1.7927)\n",
        "val tensor(2.0056)\n",
        "\n",
        "\n",
        "LSTM with attention:\n"
      ],
      "metadata": {
        "id": "H7tO6OUdB16d"
      }
    }
  ]
}